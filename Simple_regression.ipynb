{
  "nbformat": 4,
  "nbformat_minor": 0,
  "metadata": {
    "colab": {
      "name": "Simple_regression.ipynb",
      "provenance": [],
      "collapsed_sections": []
    },
    "kernelspec": {
      "name": "python3",
      "display_name": "Python 3"
    }
  },
  "cells": [
    {
      "cell_type": "code",
      "metadata": {
        "id": "r5Zr0PIf8_Fd"
      },
      "source": [
        "Introduction to Linear Regression "
      ],
      "execution_count": null,
      "outputs": []
    },
    {
      "cell_type": "code",
      "metadata": {
        "id": "ffM6oDb79D9W"
      },
      "source": [
        "import pandas as pd\n",
        "import numpy as np\n",
        "from matplotlib import pyplot as plt"
      ],
      "execution_count": null,
      "outputs": []
    },
    {
      "cell_type": "code",
      "metadata": {
        "id": "QSm8XARq9LBH"
      },
      "source": [
        "# Generate 'random' data\n",
        "np.random.seed(1)\n",
        "X = 1.5 * np.random.randn(100) + 1.5   # 100 values with mean = 1.5, stddev = 2.5\n",
        "res = 0.5 * np.random.randn(100)       # 100 residual terms\n",
        "y = 2 + 0.3 * X + res                  #  Y\n"
      ],
      "execution_count": null,
      "outputs": []
    },
    {
      "cell_type": "code",
      "metadata": {
        "id": "lkiSKMBZ9PGN",
        "colab": {
          "base_uri": "https://localhost:8080/",
          "height": 206
        },
        "outputId": "831f52a0-1ce0-43db-ee6b-43c725d3b939"
      },
      "source": [
        "# Create pandas dataframe to store our X and y values\n",
        "df = pd.DataFrame(\n",
        "    {'X': X,\n",
        "     'y': y}\n",
        ")\n",
        "\n",
        "# Show the first five rows of our dataframe\n",
        "df.head()"
      ],
      "execution_count": null,
      "outputs": [
        {
          "output_type": "execute_result",
          "data": {
            "text/html": [
              "<div>\n",
              "<style scoped>\n",
              "    .dataframe tbody tr th:only-of-type {\n",
              "        vertical-align: middle;\n",
              "    }\n",
              "\n",
              "    .dataframe tbody tr th {\n",
              "        vertical-align: top;\n",
              "    }\n",
              "\n",
              "    .dataframe thead th {\n",
              "        text-align: right;\n",
              "    }\n",
              "</style>\n",
              "<table border=\"1\" class=\"dataframe\">\n",
              "  <thead>\n",
              "    <tr style=\"text-align: right;\">\n",
              "      <th></th>\n",
              "      <th>X</th>\n",
              "      <th>y</th>\n",
              "    </tr>\n",
              "  </thead>\n",
              "  <tbody>\n",
              "    <tr>\n",
              "      <th>0</th>\n",
              "      <td>3.936518</td>\n",
              "      <td>2.957391</td>\n",
              "    </tr>\n",
              "    <tr>\n",
              "      <th>1</th>\n",
              "      <td>0.582365</td>\n",
              "      <td>2.786963</td>\n",
              "    </tr>\n",
              "    <tr>\n",
              "      <th>2</th>\n",
              "      <td>0.707742</td>\n",
              "      <td>2.414069</td>\n",
              "    </tr>\n",
              "    <tr>\n",
              "      <th>3</th>\n",
              "      <td>-0.109453</td>\n",
              "      <td>2.263953</td>\n",
              "    </tr>\n",
              "    <tr>\n",
              "      <th>4</th>\n",
              "      <td>2.798111</td>\n",
              "      <td>2.291978</td>\n",
              "    </tr>\n",
              "  </tbody>\n",
              "</table>\n",
              "</div>"
            ],
            "text/plain": [
              "          X         y\n",
              "0  3.936518  2.957391\n",
              "1  0.582365  2.786963\n",
              "2  0.707742  2.414069\n",
              "3 -0.109453  2.263953\n",
              "4  2.798111  2.291978"
            ]
          },
          "metadata": {
            "tags": []
          },
          "execution_count": 52
        }
      ]
    },
    {
      "cell_type": "code",
      "metadata": {
        "id": "CYzHtAcP9nUV",
        "colab": {
          "base_uri": "https://localhost:8080/",
          "height": 424
        },
        "outputId": "0b9b52ea-d2b0-4031-da73-68f2a68f1461"
      },
      "source": [
        "# Plot regression against actual data\n",
        "plt.figure(figsize=(12, 6))\n",
        "plt.plot(X, y, 'ro')   # scatter plot \n",
        "plt.title('Actual data')\n",
        "plt.xlabel('X')\n",
        "plt.ylabel('y')\n",
        "\n",
        "plt.show()"
      ],
      "execution_count": null,
      "outputs": [
        {
          "output_type": "display_data",
          "data": {
            "image/png": "[encoded data removed]",
            "text/plain": [
              "<Figure size 864x432 with 1 Axes>"
            ]
          },
          "metadata": {
            "tags": []
          }
        }
      ]
    },
    {
      "cell_type": "code",
      "metadata": {
        "id": "ArgEDnrw_ao-",
        "colab": {
          "base_uri": "https://localhost:8080/",
          "height": 52
        },
        "outputId": "a9574c01-993f-45f1-f4f8-96f0d600e4fb"
      },
      "source": [
        "# Calculate the mean of X and y\n",
        "xmean = np.mean(X)\n",
        "ymean = np.mean(y)\n",
        "\n",
        "# Calculate the terms needed for the numator and denominator of beta\n",
        "df['xycov'] = (df['X'] - xmean) * (df['y'] - ymean)\n",
        "df['xvar'] = (df['X'] - xmean)**2\n",
        "\n",
        "# Calculate beta and alpha\n",
        "beta = df['xycov'].sum() / df['xvar'].sum()\n",
        "alpha = ymean - (beta * xmean)\n",
        "print(f'alpha = {alpha}')\n",
        "print(f'beta = {beta}')"
      ],
      "execution_count": null,
      "outputs": [
        {
          "output_type": "stream",
          "text": [
            "alpha = 2.0257931980235147\n",
            "beta = 0.33180904455039056\n"
          ],
          "name": "stdout"
        }
      ]
    },
    {
      "cell_type": "code",
      "metadata": {
        "id": "dPfTVyjL_cnp"
      },
      "source": [
        "ypred = alpha + beta * X\n",
        "yreal = 2+0.3*X"
      ],
      "execution_count": null,
      "outputs": []
    },
    {
      "cell_type": "code",
      "metadata": {
        "id": "bLAb2wCc_geV",
        "colab": {
          "base_uri": "https://localhost:8080/",
          "height": 424
        },
        "outputId": "80a9c675-8e9e-44c3-fe2f-57c67192b4ce"
      },
      "source": [
        "# Plot regression against actual data\n",
        "plt.figure(figsize=(12, 6))\n",
        "plt.plot(X, ypred)     # regression line\n",
        "plt.plot(X, yreal)     # regression line\n",
        "plt.plot(X, y, 'ro')   # scatter plot showing actual data\n",
        "plt.title('Actual vs Predicted')\n",
        "plt.xlabel('X')\n",
        "plt.ylabel('y')\n",
        "\n",
        "plt.show()"
      ],
      "execution_count": null,
      "outputs": [
        {
          "output_type": "display_data",
          "data": {
            "image/png": "[encoded data removed]",
            "text/plain": [
              "<Figure size 864x432 with 1 Axes>"
            ]
          },
          "metadata": {
            "tags": []
          }
        }
      ]
    },
    {
      "cell_type": "code",
      "metadata": {
        "id": "DckOiq4fZ6OI"
      },
      "source": [
        ""
      ],
      "execution_count": null,
      "outputs": []
    },
    {
      "cell_type": "markdown",
      "metadata": {
        "id": "7pN5fnPw-Zp0"
      },
      "source": [
        "Get data here:\n",
        "https://www.kaggle.com/purbar/advertising-data#Advertising.csv  Or just google: 'kaggle Advertizement dataset'"
      ]
    },
    {
      "cell_type": "code",
      "metadata": {
        "id": "ZKlY7KWa9_QT",
        "colab": {
          "base_uri": "https://localhost:8080/",
          "height": 206
        },
        "outputId": "ab94ff9d-4777-4891-ce5a-2411cf1b336b"
      },
      "source": [
        "advert = pd.read_csv('Advertising.csv', index_col=0)\n",
        "advert.head()"
      ],
      "execution_count": null,
      "outputs": [
        {
          "output_type": "execute_result",
          "data": {
            "text/html": [
              "<div>\n",
              "<style scoped>\n",
              "    .dataframe tbody tr th:only-of-type {\n",
              "        vertical-align: middle;\n",
              "    }\n",
              "\n",
              "    .dataframe tbody tr th {\n",
              "        vertical-align: top;\n",
              "    }\n",
              "\n",
              "    .dataframe thead th {\n",
              "        text-align: right;\n",
              "    }\n",
              "</style>\n",
              "<table border=\"1\" class=\"dataframe\">\n",
              "  <thead>\n",
              "    <tr style=\"text-align: right;\">\n",
              "      <th></th>\n",
              "      <th>TV</th>\n",
              "      <th>Radio</th>\n",
              "      <th>Newspaper</th>\n",
              "      <th>Sales</th>\n",
              "    </tr>\n",
              "  </thead>\n",
              "  <tbody>\n",
              "    <tr>\n",
              "      <th>1</th>\n",
              "      <td>230.1</td>\n",
              "      <td>37.8</td>\n",
              "      <td>69.2</td>\n",
              "      <td>22.1</td>\n",
              "    </tr>\n",
              "    <tr>\n",
              "      <th>2</th>\n",
              "      <td>44.5</td>\n",
              "      <td>39.3</td>\n",
              "      <td>45.1</td>\n",
              "      <td>10.4</td>\n",
              "    </tr>\n",
              "    <tr>\n",
              "      <th>3</th>\n",
              "      <td>17.2</td>\n",
              "      <td>45.9</td>\n",
              "      <td>69.3</td>\n",
              "      <td>9.3</td>\n",
              "    </tr>\n",
              "    <tr>\n",
              "      <th>4</th>\n",
              "      <td>151.5</td>\n",
              "      <td>41.3</td>\n",
              "      <td>58.5</td>\n",
              "      <td>18.5</td>\n",
              "    </tr>\n",
              "    <tr>\n",
              "      <th>5</th>\n",
              "      <td>180.8</td>\n",
              "      <td>10.8</td>\n",
              "      <td>58.4</td>\n",
              "      <td>12.9</td>\n",
              "    </tr>\n",
              "  </tbody>\n",
              "</table>\n",
              "</div>"
            ],
            "text/plain": [
              "      TV  Radio  Newspaper  Sales\n",
              "1  230.1   37.8       69.2   22.1\n",
              "2   44.5   39.3       45.1   10.4\n",
              "3   17.2   45.9       69.3    9.3\n",
              "4  151.5   41.3       58.5   18.5\n",
              "5  180.8   10.8       58.4   12.9"
            ]
          },
          "metadata": {
            "tags": []
          },
          "execution_count": 58
        }
      ]
    },
    {
      "cell_type": "code",
      "metadata": {
        "id": "lYlDuZkX_I3Z",
        "colab": {
          "base_uri": "https://localhost:8080/",
          "height": 69
        },
        "outputId": "256bff0d-3cde-4033-d7da-b3e8c02ae5bc"
      },
      "source": [
        "import statsmodels.formula.api as smf\n",
        "\n",
        "# Initialise and fit linear regression model using `statsmodels`\n",
        "model = smf.ols('Sales ~ TV', data=advert)\n",
        "model = model.fit()\n",
        "print (model.params)"
      ],
      "execution_count": null,
      "outputs": [
        {
          "output_type": "stream",
          "text": [
            "Intercept    7.032594\n",
            "TV           0.047537\n",
            "dtype: float64\n"
          ],
          "name": "stdout"
        }
      ]
    },
    {
      "cell_type": "code",
      "metadata": {
        "id": "GSkQRE8h_574",
        "colab": {
          "base_uri": "https://localhost:8080/",
          "height": 424
        },
        "outputId": "b2907d70-c977-498f-fa92-60a60b22a675"
      },
      "source": [
        "# Predict values\n",
        "sales_pred = model.predict()\n",
        "\n",
        "# Plot regression against actual data\n",
        "plt.figure(figsize=(12, 6))\n",
        "plt.plot(advert['TV'], advert['Sales'], 'o')           \n",
        "plt.plot(advert['TV'], sales_pred, 'r', linewidth=2)   \n",
        "plt.xlabel('TV Advertising Costs')\n",
        "plt.ylabel('Sales')\n",
        "plt.title('TV vs Sales')\n",
        "\n",
        "plt.show()"
      ],
      "execution_count": null,
      "outputs": [
        {
          "output_type": "display_data",
          "data": {
            "image/png": "[encoded data removed]",
            "text/plain": [
              "<Figure size 864x432 with 1 Axes>"
            ]
          },
          "metadata": {
            "tags": []
          }
        }
      ]
    },
    {
      "cell_type": "code",
      "metadata": {
        "id": "T_vliqiSAE1J",
        "colab": {
          "base_uri": "https://localhost:8080/",
          "height": 52
        },
        "outputId": "b985b734-1986-4cd8-f8cf-73916c5af0cf"
      },
      "source": [
        "from sklearn.linear_model import LinearRegression\n",
        "\n",
        "# Build linear regression model using TV and Radio as predictors\n",
        "# Split data into predictors X and output Y\n",
        "predictors = ['TV', 'Radio']\n",
        "X = advert[predictors]\n",
        "y = advert['Sales']\n",
        "\n",
        "# Initialise and fit model\n",
        "lm = LinearRegression()\n",
        "model = lm.fit(X, y)\n",
        "print(f'alpha = {model.intercept_}')\n",
        "print(f'betas = {model.coef_}')"
      ],
      "execution_count": null,
      "outputs": [
        {
          "output_type": "stream",
          "text": [
            "alpha = 2.921099912405138\n",
            "betas = [0.04575482 0.18799423]\n"
          ],
          "name": "stdout"
        }
      ]
    },
    {
      "cell_type": "code",
      "metadata": {
        "id": "p0JBIHiCAZLW",
        "colab": {
          "base_uri": "https://localhost:8080/",
          "height": 712
        },
        "outputId": "e0eecae6-88ef-4e68-86ab-ac238164e1e2"
      },
      "source": [
        "model.predict(X)"
      ],
      "execution_count": null,
      "outputs": [
        {
          "output_type": "execute_result",
          "data": {
            "text/plain": [
              "array([20.55546463, 12.34536229, 12.33701773, 17.61711596, 13.22390813,\n",
              "       12.51208449, 11.71821241, 12.10551553,  3.7093792 , 12.55169696,\n",
              "        7.0358597 , 17.25652015, 10.60866187,  8.81095051, 18.44466773,\n",
              "       20.82891539, 12.90386507, 23.24107626,  9.94121476, 14.15384619,\n",
              "       18.12139161, 14.74206357,  6.51417168, 16.54402663,  8.14035215,\n",
              "       15.6080206 , 14.96769383, 17.0463346 , 19.39954145,  9.15929748,\n",
              "       21.64292187, 11.35791808,  7.65045928, 18.83346334,  7.56302763,\n",
              "       16.99280099, 23.36720719, 15.6258994 ,  9.91257829, 20.4405801 ,\n",
              "       16.37872122, 17.29870935, 21.5621537 , 13.96692266,  8.9009974 ,\n",
              "       15.16263814,  8.88644967, 21.69944046, 16.28690268,  8.18162949,\n",
              "       12.64569407,  9.31962792, 20.66180115, 19.96126242, 20.35512357,\n",
              "       21.30864743,  8.53774783, 12.76239488, 21.89072858, 18.10746914,\n",
              "        5.74497097, 22.90418658, 16.78413768, 13.18474853, 16.96570907,\n",
              "        7.82652846,  8.98703456, 12.02066194, 18.95313425, 21.09369037,\n",
              "       17.78350693, 10.63329605, 10.35113844,  9.91334008, 17.30983543,\n",
              "       11.90970399,  4.48014809, 13.79239059,  8.78920329,  9.67621401,\n",
              "       11.43621364, 14.6638809 , 10.18272029, 14.41647235, 20.77350468,\n",
              "       15.22002396, 11.58203354, 15.61872354, 11.75510286, 16.93110264,\n",
              "        9.98714329,  4.51167896, 19.17972975, 21.26277229, 10.46708623,\n",
              "       16.33347878, 12.62023117, 15.32904398, 24.12842563, 16.94651016,\n",
              "       13.90534597, 23.30701753, 17.64034079, 14.75193037, 20.26809884,\n",
              "       17.95362103,  6.13290678,  7.11373347,  3.59568568, 19.66392439,\n",
              "       14.79408982, 21.12381933, 13.85533202, 16.38399023, 15.29725626,\n",
              "       12.93708446, 11.97848762,  6.56716317, 15.60946713,  6.81665095,\n",
              "       14.42450056,  7.86076515, 13.62136464, 15.05811789, 19.4940435 ,\n",
              "        9.12925166, 10.59096289,  6.59063608, 22.21260278,  7.90401761,\n",
              "       10.39769966, 15.60046013,  8.41888332, 19.27581486, 11.86602974,\n",
              "       13.96678613, 11.42419802, 20.87722595,  9.75760743, 19.63411177,\n",
              "        9.47540519, 18.43880322, 19.25144497,  8.77862066, 10.10502768,\n",
              "        9.6976895 , 15.27918887, 23.26038805, 12.23595022,  9.81659119,\n",
              "       18.37759626, 10.03658404, 16.34251686, 18.22227054, 15.48053237,\n",
              "        5.28942768, 15.39522591, 10.01956371, 10.39341821, 12.40610283,\n",
              "       14.21650102, 13.57248088, 14.94400258, 17.32019972, 11.04707937,\n",
              "       14.28978442, 10.80869402, 13.36076565, 17.21335083, 17.92193265,\n",
              "        7.3895737 , 14.37684633,  7.59657824, 11.96096978, 13.73615116,\n",
              "       24.7835259 , 19.96402163, 12.17492441, 16.01384397, 12.37803956,\n",
              "       10.57508895, 13.93369584,  6.56408761, 24.16393648, 18.53794901,\n",
              "       20.77937663,  9.69868449, 17.06027938, 18.62009678,  6.0514451 ,\n",
              "       12.45497782,  8.4059261 ,  4.47885906, 18.44876059, 16.4631902 ,\n",
              "        5.36451249,  8.15237521, 12.76804849, 23.79292299, 15.15754285])"
            ]
          },
          "metadata": {
            "tags": []
          },
          "execution_count": 63
        }
      ]
    },
    {
      "cell_type": "code",
      "metadata": {
        "id": "z3-TOumAAcxh",
        "colab": {
          "base_uri": "https://localhost:8080/",
          "height": 34
        },
        "outputId": "76c565a6-200f-44ca-d5ed-14ae11c20622"
      },
      "source": [
        "new_X = [[300, 200]]\n",
        "print(model.predict(new_X))"
      ],
      "execution_count": null,
      "outputs": [
        {
          "output_type": "stream",
          "text": [
            "[54.24638977]\n"
          ],
          "name": "stdout"
        }
      ]
    }
  ]
}