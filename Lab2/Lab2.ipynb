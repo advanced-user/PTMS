{
 "cells": [
  {
   "cell_type": "markdown",
   "metadata": {
    "collapsed": true,
    "pycharm": {
     "name": "#%% md\n"
    }
   },
   "source": [
    "# Дисперсійний аналіз"
   ]
  },
  {
   "cell_type": "markdown",
   "source": [
    "## Варіант 6. Використовуючи аналіз однофакторної моделі, перевірити на рівні значимості 5% гіпотезу про вплив відстані від центру міста на ступінь заповнюваності готелів. Результати випробувань наведені в таблиці 2.8."
   ],
   "metadata": {
    "collapsed": false,
    "pycharm": {
     "name": "#%% md\n"
    }
   }
  },
  {
   "cell_type": "code",
   "execution_count": 3,
   "outputs": [],
   "source": [
    "import pandas as pd\n",
    "import matplotlib.pylab as plt\n",
    "import seaborn as sns\n",
    "\n",
    "import statsmodels.api as sm\n",
    "from statsmodels.formula.api import ols"
   ],
   "metadata": {
    "collapsed": false,
    "pycharm": {
     "name": "#%%\n"
    }
   }
  },
  {
   "cell_type": "markdown",
   "source": [
    "### Вихідні дані"
   ],
   "metadata": {
    "collapsed": false,
    "pycharm": {
     "name": "#%% md\n"
    }
   }
  },
  {
   "cell_type": "code",
   "execution_count": 4,
   "outputs": [
    {
     "data": {
      "text/plain": "   № hotel  up to 3 km  from 3 to 5 km  more than 5 km\n0        1          92              90              97\n1        2          98              86              79\n2        3          89              84              74\n3        4          97              91              85\n4        5          90              83              73\n5        6          94              82              77",
      "text/html": "<div>\n<style scoped>\n    .dataframe tbody tr th:only-of-type {\n        vertical-align: middle;\n    }\n\n    .dataframe tbody tr th {\n        vertical-align: top;\n    }\n\n    .dataframe thead th {\n        text-align: right;\n    }\n</style>\n<table border=\"1\" class=\"dataframe\">\n  <thead>\n    <tr style=\"text-align: right;\">\n      <th></th>\n      <th>№ hotel</th>\n      <th>up to 3 km</th>\n      <th>from 3 to 5 km</th>\n      <th>more than 5 km</th>\n    </tr>\n  </thead>\n  <tbody>\n    <tr>\n      <th>0</th>\n      <td>1</td>\n      <td>92</td>\n      <td>90</td>\n      <td>97</td>\n    </tr>\n    <tr>\n      <th>1</th>\n      <td>2</td>\n      <td>98</td>\n      <td>86</td>\n      <td>79</td>\n    </tr>\n    <tr>\n      <th>2</th>\n      <td>3</td>\n      <td>89</td>\n      <td>84</td>\n      <td>74</td>\n    </tr>\n    <tr>\n      <th>3</th>\n      <td>4</td>\n      <td>97</td>\n      <td>91</td>\n      <td>85</td>\n    </tr>\n    <tr>\n      <th>4</th>\n      <td>5</td>\n      <td>90</td>\n      <td>83</td>\n      <td>73</td>\n    </tr>\n    <tr>\n      <th>5</th>\n      <td>6</td>\n      <td>94</td>\n      <td>82</td>\n      <td>77</td>\n    </tr>\n  </tbody>\n</table>\n</div>"
     },
     "execution_count": 4,
     "metadata": {},
     "output_type": "execute_result"
    }
   ],
   "source": [
    "df = pd.read_csv('data.csv')\n",
    "df"
   ],
   "metadata": {
    "collapsed": false,
    "pycharm": {
     "name": "#%%\n"
    }
   }
  },
  {
   "cell_type": "code",
   "execution_count": 5,
   "outputs": [
    {
     "data": {
      "text/plain": "        № hotel  up to 3 km  from 3 to 5 km  more than 5 km\ncount  6.000000    6.000000        6.000000        6.000000\nmean   3.500000   93.333333       86.000000       80.833333\nstd    1.870829    3.669696        3.741657        8.998148\nmin    1.000000   89.000000       82.000000       73.000000\n25%    2.250000   90.500000       83.250000       74.750000\n50%    3.500000   93.000000       85.000000       78.000000\n75%    4.750000   96.250000       89.000000       83.500000\nmax    6.000000   98.000000       91.000000       97.000000",
      "text/html": "<div>\n<style scoped>\n    .dataframe tbody tr th:only-of-type {\n        vertical-align: middle;\n    }\n\n    .dataframe tbody tr th {\n        vertical-align: top;\n    }\n\n    .dataframe thead th {\n        text-align: right;\n    }\n</style>\n<table border=\"1\" class=\"dataframe\">\n  <thead>\n    <tr style=\"text-align: right;\">\n      <th></th>\n      <th>№ hotel</th>\n      <th>up to 3 km</th>\n      <th>from 3 to 5 km</th>\n      <th>more than 5 km</th>\n    </tr>\n  </thead>\n  <tbody>\n    <tr>\n      <th>count</th>\n      <td>6.000000</td>\n      <td>6.000000</td>\n      <td>6.000000</td>\n      <td>6.000000</td>\n    </tr>\n    <tr>\n      <th>mean</th>\n      <td>3.500000</td>\n      <td>93.333333</td>\n      <td>86.000000</td>\n      <td>80.833333</td>\n    </tr>\n    <tr>\n      <th>std</th>\n      <td>1.870829</td>\n      <td>3.669696</td>\n      <td>3.741657</td>\n      <td>8.998148</td>\n    </tr>\n    <tr>\n      <th>min</th>\n      <td>1.000000</td>\n      <td>89.000000</td>\n      <td>82.000000</td>\n      <td>73.000000</td>\n    </tr>\n    <tr>\n      <th>25%</th>\n      <td>2.250000</td>\n      <td>90.500000</td>\n      <td>83.250000</td>\n      <td>74.750000</td>\n    </tr>\n    <tr>\n      <th>50%</th>\n      <td>3.500000</td>\n      <td>93.000000</td>\n      <td>85.000000</td>\n      <td>78.000000</td>\n    </tr>\n    <tr>\n      <th>75%</th>\n      <td>4.750000</td>\n      <td>96.250000</td>\n      <td>89.000000</td>\n      <td>83.500000</td>\n    </tr>\n    <tr>\n      <th>max</th>\n      <td>6.000000</td>\n      <td>98.000000</td>\n      <td>91.000000</td>\n      <td>97.000000</td>\n    </tr>\n  </tbody>\n</table>\n</div>"
     },
     "execution_count": 5,
     "metadata": {},
     "output_type": "execute_result"
    }
   ],
   "source": [
    "df.describe()"
   ],
   "metadata": {
    "collapsed": false,
    "pycharm": {
     "name": "#%%\n"
    }
   }
  },
  {
   "cell_type": "markdown",
   "source": [
    "### Число класів градації фактора (груп)"
   ],
   "metadata": {
    "collapsed": false,
    "pycharm": {
     "name": "#%% md\n"
    }
   }
  },
  {
   "cell_type": "code",
   "source": [
    "p = df.shape[1] - 1\n",
    "p"
   ],
   "metadata": {
    "collapsed": false,
    "pycharm": {
     "name": "#%%\n"
    }
   },
   "execution_count": 6,
   "outputs": [
    {
     "data": {
      "text/plain": "3"
     },
     "execution_count": 6,
     "metadata": {},
     "output_type": "execute_result"
    }
   ]
  },
  {
   "cell_type": "markdown",
   "source": [
    "### В кожному класі (групі) qi спостережень"
   ],
   "metadata": {
    "collapsed": false,
    "pycharm": {
     "name": "#%% md\n"
    }
   }
  },
  {
   "cell_type": "code",
   "execution_count": 7,
   "outputs": [
    {
     "data": {
      "text/plain": "6"
     },
     "execution_count": 7,
     "metadata": {},
     "output_type": "execute_result"
    }
   ],
   "source": [
    "qi = df.shape[0]\n",
    "qi"
   ],
   "metadata": {
    "collapsed": false,
    "pycharm": {
     "name": "#%%\n"
    }
   }
  },
  {
   "cell_type": "markdown",
   "source": [
    "### Загальна кількість спостережень q"
   ],
   "metadata": {
    "collapsed": false,
    "pycharm": {
     "name": "#%% md\n"
    }
   }
  },
  {
   "cell_type": "code",
   "execution_count": 8,
   "outputs": [
    {
     "data": {
      "text/plain": "18"
     },
     "execution_count": 8,
     "metadata": {},
     "output_type": "execute_result"
    }
   ],
   "source": [
    "q = qi * p\n",
    "q"
   ],
   "metadata": {
    "collapsed": false,
    "pycharm": {
     "name": "#%%\n"
    }
   }
  },
  {
   "cell_type": "markdown",
   "source": [
    "### Число ступенів свободи:\n",
    "### Критичне значення відношення Фішера: Fкр=3,68\n"
   ],
   "metadata": {
    "collapsed": false,
    "pycharm": {
     "name": "#%% md\n"
    }
   }
  },
  {
   "cell_type": "code",
   "execution_count": 9,
   "outputs": [
    {
     "name": "stdout",
     "output_type": "stream",
     "text": [
      "va =  2\n",
      "ve =  15\n",
      "v =  17\n"
     ]
    }
   ],
   "source": [
    "va = p - 1\n",
    "ve = q - p\n",
    "v = q - 1\n",
    "\n",
    "print(\"va = \", va)\n",
    "print(\"ve = \", ve)\n",
    "print(\"v = \", v)"
   ],
   "metadata": {
    "collapsed": false,
    "pycharm": {
     "name": "#%%\n"
    }
   }
  },
  {
   "cell_type": "markdown",
   "source": [
    "### Обчислимо суми квадратів відхилень:"
   ],
   "metadata": {
    "collapsed": false,
    "pycharm": {
     "name": "#%% md\n"
    }
   }
  },
  {
   "cell_type": "code",
   "execution_count": 10,
   "outputs": [],
   "source": [
    "mean_qi = df[['up to 3 km', 'from 3 to 5 km', 'more than 5 km']].sum() / qi\n",
    "x = mean_qi.sum() / p # глобальное среднее\n",
    "\n",
    "\n",
    "Sfact = qi * ((mean_qi - x) ** 2).sum()\n",
    "\n",
    "Sgen = 0\n",
    "for column in df[['up to 3 km', 'from 3 to 5 km', 'more than 5 km']]:\n",
    "    Sgen += ((df[column] - x) ** 2).sum()\n",
    "\n",
    "Sres = Sgen - Sfact"
   ],
   "metadata": {
    "collapsed": false,
    "pycharm": {
     "name": "#%%\n"
    }
   }
  },
  {
   "cell_type": "code",
   "execution_count": 11,
   "outputs": [
    {
     "name": "stdout",
     "output_type": "stream",
     "text": [
      "Загальна сума квадратів відхилень:  1015.6111111111112\n",
      "Факторна сума квадратів відхилень:  473.44444444444446\n",
      "Залишкова сума:  542.1666666666667\n"
     ]
    }
   ],
   "source": [
    "print('Загальна сума квадратів відхилень: ', Sgen)\n",
    "print('Факторна сума квадратів відхилень: ', Sfact)\n",
    "print('Залишкова сума: ', Sres)"
   ],
   "metadata": {
    "collapsed": false,
    "pycharm": {
     "name": "#%%\n"
    }
   }
  },
  {
   "cell_type": "markdown",
   "source": [
    "### Факторна та залишкова дисперсії"
   ],
   "metadata": {
    "collapsed": false,
    "pycharm": {
     "name": "#%% md\n"
    }
   }
  },
  {
   "cell_type": "code",
   "execution_count": 12,
   "outputs": [
    {
     "name": "stdout",
     "output_type": "stream",
     "text": [
      "Факторна дисперсія:  236.72222222222223\n",
      "Залишкова дисперсія:  10.630718954248367\n"
     ]
    }
   ],
   "source": [
    "Sfact2 = Sfact / (p-1)\n",
    "Sres2 = Sres / (p * (q-1))\n",
    "\n",
    "print('Факторна дисперсія: ', Sfact2)\n",
    "print('Залишкова дисперсія: ', Sres2)"
   ],
   "metadata": {
    "collapsed": false,
    "pycharm": {
     "name": "#%%\n"
    }
   }
  },
  {
   "cell_type": "markdown",
   "source": [
    "### Фактичне відношення Фішера"
   ],
   "metadata": {
    "collapsed": false,
    "pycharm": {
     "name": "#%% md\n"
    }
   },
   "outputs": [],
   "execution_count": 1
  },
  {
   "cell_type": "code",
   "execution_count": 13,
   "outputs": [
    {
     "data": {
      "text/plain": "22.26775284352905"
     },
     "execution_count": 13,
     "metadata": {},
     "output_type": "execute_result"
    }
   ],
   "source": [
    "F = Sfact2 / Sres2\n",
    "F"
   ],
   "metadata": {
    "collapsed": false,
    "pycharm": {
     "name": "#%%\n"
    }
   }
  },
  {
   "cell_type": "markdown",
   "source": [
    "### Так як фактичне відношення Фішера більше критичного з рівнем значущості α = 0,05 робимо висновок, що відстань від центру міста впливає на ступінь заповнюваності готелів"
   ],
   "metadata": {
    "collapsed": false,
    "pycharm": {
     "name": "#%% md\n"
    }
   }
  }
 ],
 "metadata": {
  "kernelspec": {
   "display_name": "Python 3",
   "language": "python",
   "name": "python3"
  },
  "language_info": {
   "codemirror_mode": {
    "name": "ipython",
    "version": 2
   },
   "file_extension": ".py",
   "mimetype": "text/x-python",
   "name": "python",
   "nbconvert_exporter": "python",
   "pygments_lexer": "ipython2",
   "version": "2.7.6"
  }
 },
 "nbformat": 4,
 "nbformat_minor": 0
}