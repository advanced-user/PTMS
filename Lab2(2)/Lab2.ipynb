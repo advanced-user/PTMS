{
 "cells": [
  {
   "cell_type": "markdown",
   "metadata": {
    "collapsed": true,
    "pycharm": {
     "name": "#%% md\n"
    }
   },
   "source": [
    "# Дисперсійний аналіз"
   ]
  },
  {
   "cell_type": "markdown",
   "source": [
    "## Варіант 9. Дана однофакторна таблиця залежності обсягу виручки (млн. грн.) від витрат на рекламу (тис. грн.). Використовуючи аналіз однофакторної моделі, перевірити на рівні значимості 5% нульову гіпотезу. Результати випробувань наведені в таблиці 2.11."
   ],
   "metadata": {
    "collapsed": false,
    "pycharm": {
     "name": "#%% md\n"
    }
   }
  },
  {
   "cell_type": "code",
   "execution_count": 10,
   "outputs": [],
   "source": [
    "import pandas as pd\n",
    "import matplotlib.pylab as plt\n",
    "import seaborn as sns\n",
    "\n",
    "import statsmodels.api as sm\n",
    "from statsmodels.formula.api import ols"
   ],
   "metadata": {
    "collapsed": false,
    "pycharm": {
     "name": "#%%\n"
    }
   }
  },
  {
   "cell_type": "markdown",
   "source": [
    "### Вихідні дані"
   ],
   "metadata": {
    "collapsed": false,
    "pycharm": {
     "name": "#%% md\n"
    }
   }
  },
  {
   "cell_type": "code",
   "execution_count": 11,
   "outputs": [
    {
     "data": {
      "text/plain": "   № observation  150-200  200-250  250-300  300-400\n0              1      6.3      6.9      6.8      6.7\n1              2      5.6      5.7      7.1      7.3\n2              3      7.2      6.8      7.0      6.9\n3              4      4.7      6.5      6.5      6.6\n4              5      5.2      6.3      6.9      7.1",
      "text/html": "<div>\n<style scoped>\n    .dataframe tbody tr th:only-of-type {\n        vertical-align: middle;\n    }\n\n    .dataframe tbody tr th {\n        vertical-align: top;\n    }\n\n    .dataframe thead th {\n        text-align: right;\n    }\n</style>\n<table border=\"1\" class=\"dataframe\">\n  <thead>\n    <tr style=\"text-align: right;\">\n      <th></th>\n      <th>№ observation</th>\n      <th>150-200</th>\n      <th>200-250</th>\n      <th>250-300</th>\n      <th>300-400</th>\n    </tr>\n  </thead>\n  <tbody>\n    <tr>\n      <th>0</th>\n      <td>1</td>\n      <td>6.3</td>\n      <td>6.9</td>\n      <td>6.8</td>\n      <td>6.7</td>\n    </tr>\n    <tr>\n      <th>1</th>\n      <td>2</td>\n      <td>5.6</td>\n      <td>5.7</td>\n      <td>7.1</td>\n      <td>7.3</td>\n    </tr>\n    <tr>\n      <th>2</th>\n      <td>3</td>\n      <td>7.2</td>\n      <td>6.8</td>\n      <td>7.0</td>\n      <td>6.9</td>\n    </tr>\n    <tr>\n      <th>3</th>\n      <td>4</td>\n      <td>4.7</td>\n      <td>6.5</td>\n      <td>6.5</td>\n      <td>6.6</td>\n    </tr>\n    <tr>\n      <th>4</th>\n      <td>5</td>\n      <td>5.2</td>\n      <td>6.3</td>\n      <td>6.9</td>\n      <td>7.1</td>\n    </tr>\n  </tbody>\n</table>\n</div>"
     },
     "execution_count": 11,
     "metadata": {},
     "output_type": "execute_result"
    }
   ],
   "source": [
    "df = pd.read_csv('data.csv')\n",
    "df"
   ],
   "metadata": {
    "collapsed": false,
    "pycharm": {
     "name": "#%%\n"
    }
   }
  },
  {
   "cell_type": "code",
   "execution_count": 12,
   "outputs": [
    {
     "data": {
      "text/plain": "       № observation   150-200   200-250   250-300   300-400\ncount       5.000000  5.000000  5.000000  5.000000  5.000000\nmean        3.000000  5.800000  6.440000  6.860000  6.920000\nstd         1.581139  0.977241  0.477493  0.230217  0.286356\nmin         1.000000  4.700000  5.700000  6.500000  6.600000\n25%         2.000000  5.200000  6.300000  6.800000  6.700000\n50%         3.000000  5.600000  6.500000  6.900000  6.900000\n75%         4.000000  6.300000  6.800000  7.000000  7.100000\nmax         5.000000  7.200000  6.900000  7.100000  7.300000",
      "text/html": "<div>\n<style scoped>\n    .dataframe tbody tr th:only-of-type {\n        vertical-align: middle;\n    }\n\n    .dataframe tbody tr th {\n        vertical-align: top;\n    }\n\n    .dataframe thead th {\n        text-align: right;\n    }\n</style>\n<table border=\"1\" class=\"dataframe\">\n  <thead>\n    <tr style=\"text-align: right;\">\n      <th></th>\n      <th>№ observation</th>\n      <th>150-200</th>\n      <th>200-250</th>\n      <th>250-300</th>\n      <th>300-400</th>\n    </tr>\n  </thead>\n  <tbody>\n    <tr>\n      <th>count</th>\n      <td>5.000000</td>\n      <td>5.000000</td>\n      <td>5.000000</td>\n      <td>5.000000</td>\n      <td>5.000000</td>\n    </tr>\n    <tr>\n      <th>mean</th>\n      <td>3.000000</td>\n      <td>5.800000</td>\n      <td>6.440000</td>\n      <td>6.860000</td>\n      <td>6.920000</td>\n    </tr>\n    <tr>\n      <th>std</th>\n      <td>1.581139</td>\n      <td>0.977241</td>\n      <td>0.477493</td>\n      <td>0.230217</td>\n      <td>0.286356</td>\n    </tr>\n    <tr>\n      <th>min</th>\n      <td>1.000000</td>\n      <td>4.700000</td>\n      <td>5.700000</td>\n      <td>6.500000</td>\n      <td>6.600000</td>\n    </tr>\n    <tr>\n      <th>25%</th>\n      <td>2.000000</td>\n      <td>5.200000</td>\n      <td>6.300000</td>\n      <td>6.800000</td>\n      <td>6.700000</td>\n    </tr>\n    <tr>\n      <th>50%</th>\n      <td>3.000000</td>\n      <td>5.600000</td>\n      <td>6.500000</td>\n      <td>6.900000</td>\n      <td>6.900000</td>\n    </tr>\n    <tr>\n      <th>75%</th>\n      <td>4.000000</td>\n      <td>6.300000</td>\n      <td>6.800000</td>\n      <td>7.000000</td>\n      <td>7.100000</td>\n    </tr>\n    <tr>\n      <th>max</th>\n      <td>5.000000</td>\n      <td>7.200000</td>\n      <td>6.900000</td>\n      <td>7.100000</td>\n      <td>7.300000</td>\n    </tr>\n  </tbody>\n</table>\n</div>"
     },
     "execution_count": 12,
     "metadata": {},
     "output_type": "execute_result"
    }
   ],
   "source": [
    "df.describe()"
   ],
   "metadata": {
    "collapsed": false,
    "pycharm": {
     "name": "#%%\n"
    }
   }
  },
  {
   "cell_type": "markdown",
   "source": [
    "### Число класів градації фактора (груп)"
   ],
   "metadata": {
    "collapsed": false,
    "pycharm": {
     "name": "#%% md\n"
    }
   }
  },
  {
   "cell_type": "code",
   "source": [
    "p = df.shape[1] - 1\n",
    "p"
   ],
   "metadata": {
    "collapsed": false,
    "pycharm": {
     "name": "#%%\n"
    }
   },
   "execution_count": 13,
   "outputs": [
    {
     "data": {
      "text/plain": "4"
     },
     "execution_count": 13,
     "metadata": {},
     "output_type": "execute_result"
    }
   ]
  },
  {
   "cell_type": "markdown",
   "source": [
    "### В кожному класі (групі) qi спостережень"
   ],
   "metadata": {
    "collapsed": false,
    "pycharm": {
     "name": "#%% md\n"
    }
   }
  },
  {
   "cell_type": "code",
   "execution_count": 14,
   "outputs": [
    {
     "data": {
      "text/plain": "5"
     },
     "execution_count": 14,
     "metadata": {},
     "output_type": "execute_result"
    }
   ],
   "source": [
    "qi = df.shape[0]\n",
    "qi"
   ],
   "metadata": {
    "collapsed": false,
    "pycharm": {
     "name": "#%%\n"
    }
   }
  },
  {
   "cell_type": "markdown",
   "source": [
    "### Загальна кількість спостережень q"
   ],
   "metadata": {
    "collapsed": false,
    "pycharm": {
     "name": "#%% md\n"
    }
   }
  },
  {
   "cell_type": "code",
   "execution_count": 15,
   "outputs": [
    {
     "data": {
      "text/plain": "20"
     },
     "execution_count": 15,
     "metadata": {},
     "output_type": "execute_result"
    }
   ],
   "source": [
    "q = qi * p\n",
    "q"
   ],
   "metadata": {
    "collapsed": false,
    "pycharm": {
     "name": "#%%\n"
    }
   }
  },
  {
   "cell_type": "markdown",
   "source": [
    "### Число ступенів свободи:\n",
    "### Критичне значення відношення Фішера: Fкр=3,24\n"
   ],
   "metadata": {
    "collapsed": false,
    "pycharm": {
     "name": "#%% md\n"
    }
   }
  },
  {
   "cell_type": "code",
   "execution_count": 16,
   "outputs": [
    {
     "name": "stdout",
     "output_type": "stream",
     "text": [
      "va =  3\n",
      "ve =  16\n",
      "v =  19\n"
     ]
    }
   ],
   "source": [
    "va = p - 1\n",
    "ve = q - p\n",
    "v = q - 1\n",
    "\n",
    "print(\"va = \", va)\n",
    "print(\"ve = \", ve)\n",
    "print(\"v = \", v)"
   ],
   "metadata": {
    "collapsed": false,
    "pycharm": {
     "name": "#%%\n"
    }
   }
  },
  {
   "cell_type": "markdown",
   "source": [
    "### Обчислимо суми квадратів відхилень:"
   ],
   "metadata": {
    "collapsed": false,
    "pycharm": {
     "name": "#%% md\n"
    }
   }
  },
  {
   "cell_type": "code",
   "execution_count": 17,
   "outputs": [],
   "source": [
    "mean_qi = df[['150-200', '200-250', '250-300', '300-400']].sum() / qi\n",
    "x = mean_qi.sum() / p # глобальное среднее\n",
    "\n",
    "\n",
    "Sfact = qi * ((mean_qi - x) ** 2).sum()\n",
    "\n",
    "Sgen = 0\n",
    "for column in df[['150-200', '200-250', '250-300', '300-400']]:\n",
    "    Sgen += ((df[column] - x) ** 2).sum()\n",
    "\n",
    "Sres = Sgen - Sfact"
   ],
   "metadata": {
    "collapsed": false,
    "pycharm": {
     "name": "#%%\n"
    }
   }
  },
  {
   "cell_type": "code",
   "execution_count": 18,
   "outputs": [
    {
     "name": "stdout",
     "output_type": "stream",
     "text": [
      "Загальна сума квадратів відхилень:  9.2695\n",
      "Факторна сума квадратів відхилень:  3.997500000000005\n",
      "Залишкова сума:  5.271999999999996\n"
     ]
    }
   ],
   "source": [
    "print('Загальна сума квадратів відхилень: ', Sgen)\n",
    "print('Факторна сума квадратів відхилень: ', Sfact)\n",
    "print('Залишкова сума: ', Sres)"
   ],
   "metadata": {
    "collapsed": false,
    "pycharm": {
     "name": "#%%\n"
    }
   }
  },
  {
   "cell_type": "markdown",
   "source": [
    "### Факторна та залишкова дисперсії"
   ],
   "metadata": {
    "collapsed": false,
    "pycharm": {
     "name": "#%% md\n"
    }
   }
  },
  {
   "cell_type": "code",
   "execution_count": 23,
   "outputs": [
    {
     "data": {
      "text/plain": "19.20902883156301"
     },
     "execution_count": 23,
     "metadata": {},
     "output_type": "execute_result"
    }
   ],
   "source": [
    "Sfact2 = Sfact / (p-1)\n",
    "Sres2 = Sres / (p * (q-1))\n",
    "\n",
    "F = Sfact2 / Sres2\n",
    "F"
   ],
   "metadata": {
    "collapsed": false,
    "pycharm": {
     "name": "#%%\n"
    }
   }
  },
  {
   "cell_type": "markdown",
   "source": [
    "### Так як фактичне відношення Фішера більше критичного з рівнем значущості α = 0,05 робимо висновок, що обсяг виручки (млн. грн.) залежить від витрат на рекламу (тис. грн.)"
   ],
   "metadata": {
    "collapsed": false,
    "pycharm": {
     "name": "#%% md\n"
    }
   }
  }
 ],
 "metadata": {
  "kernelspec": {
   "display_name": "Python 3",
   "language": "python",
   "name": "python3"
  },
  "language_info": {
   "codemirror_mode": {
    "name": "ipython",
    "version": 2
   },
   "file_extension": ".py",
   "mimetype": "text/x-python",
   "name": "python",
   "nbconvert_exporter": "python",
   "pygments_lexer": "ipython2",
   "version": "2.7.6"
  }
 },
 "nbformat": 4,
 "nbformat_minor": 0
}