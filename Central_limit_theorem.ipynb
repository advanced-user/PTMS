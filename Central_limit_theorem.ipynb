{
  "nbformat": 4,
  "nbformat_minor": 0,
  "metadata": {
    "colab": {
      "name": "Central-limit-theorem.ipynb",
      "provenance": [],
      "collapsed_sections": []
    },
    "kernelspec": {
      "name": "python3",
      "display_name": "Python 3"
    }
  },
  "cells": [
    {
      "cell_type": "markdown",
      "metadata": {
        "id": "PMVFV5zqA5QE"
      },
      "source": [
        "Імпортуємо модулі"
      ]
    },
    {
      "cell_type": "code",
      "metadata": {
        "id": "93IhTDO2Alk4"
      },
      "source": [
        "import numpy as np\n",
        "import seaborn as sns"
      ],
      "execution_count": null,
      "outputs": []
    },
    {
      "cell_type": "markdown",
      "metadata": {
        "id": "hUY5JoyyArOD"
      },
      "source": [
        "## **Приклад-демонстрація для закону великих чисел**"
      ]
    },
    {
      "cell_type": "markdown",
      "metadata": {
        "id": "x8bfACr0DHfH"
      },
      "source": [
        "1. Генеруємо випадкові дані за нормальним законом розподілу"
      ]
    },
    {
      "cell_type": "code",
      "metadata": {
        "colab": {
          "base_uri": "https://localhost:8080/",
          "height": 403
        },
        "id": "IYduhE2iBskY",
        "outputId": "90cbf8f1-3257-47ce-8373-57e9791dc481"
      },
      "source": [
        "mu, sigma = 5, 7 # mean and standard deviation\n",
        "X = np.random.normal(mu, sigma, 5)\n",
        "print (X[0:5], np.mean(X))\n",
        "sns.displot(X)"
      ],
      "execution_count": null,
      "outputs": [
        {
          "output_type": "stream",
          "text": [
            "[17.48072837  8.06615451 -0.70856204 -1.28124522 10.71068045] 6.853551213909836\n"
          ],
          "name": "stdout"
        },
        {
          "output_type": "execute_result",
          "data": {
            "text/plain": [
              "<seaborn.axisgrid.FacetGrid at 0x7f7602eb5d68>"
            ]
          },
          "metadata": {
            "tags": []
          },
          "execution_count": 61
        },
        {
          "output_type": "display_data",
          "data": {
            "image/png": "[encoded data removed]",
            "text/plain": [
              "<Figure size 360x360 with 1 Axes>"
            ]
          },
          "metadata": {
            "tags": [],
            "needs_background": "light"
          }
        }
      ]
    },
    {
      "cell_type": "markdown",
      "metadata": {
        "id": "IugsqgUbFW0n"
      },
      "source": [
        "Generate math expectation + variance\\stdev for the set of MEAN \n",
        "\n",
        "1.   List item\n",
        "2.   List item\n",
        "\n",
        "values for random sets\n",
        "\n"
      ]
    },
    {
      "cell_type": "code",
      "metadata": {
        "colab": {
          "base_uri": "https://localhost:8080/"
        },
        "id": "6ZD0VKFtFjgl",
        "outputId": "630e4631-f61a-4f18-c184-921700446a60"
      },
      "source": [
        "# Fix the random seed with s\n",
        "# np.random.seed(seed=1)\n",
        "# N  - count of experiments\n",
        "# mu - mean, parameter for random distribution generation\n",
        "# sigma - stdev, parameter for random distribution generation\n",
        "mu, sigma = 5, 7 \n",
        "N = 3000\n",
        "random_set_length = 5\n",
        "mean_set_sample = np.zeros(N)\n",
        "for i in range(N):\n",
        "  X = np.random.normal(mu, sigma, random_set_length)\n",
        "  set_mean = np.mean(X)\n",
        "  mean_set_sample[i] = set_mean\n",
        "  # Add value set_mean to list or numpy array called mean_set_sample\n",
        "#print(mean_set_sample)\n",
        "# MEAN mean_set_sample\n",
        "mean = np.mean(mean_set_sample)\n",
        "# Variance for mean_set_sample\n",
        "std = np.std(mean_set_sample)\n",
        "print (mean, std*std)"
      ],
      "execution_count": null,
      "outputs": [
        {
          "output_type": "stream",
          "text": [
            "5.0030008276992675 9.81927062816003\n"
          ],
          "name": "stdout"
        }
      ]
    },
    {
      "cell_type": "code",
      "metadata": {
        "colab": {
          "base_uri": "https://localhost:8080/"
        },
        "id": "6qKG__kwLd6N",
        "outputId": "1d1f23f9-5202-4b6d-a612-72bf7e9e6d48"
      },
      "source": [
        "# Fix the random seed with s\n",
        "# np.random.seed(seed=1)\n",
        "# N  - count of experiments\n",
        "# mu - mean, parameter for random distribution generation\n",
        "# sigma - stdev, parameter for random distribution generation\n",
        "mu, sigma = 5, 7 \n",
        "N = 300\n",
        "random_set_length = 5\n",
        "mean_set_sample = np.zeros(N)\n",
        "for i in range(N):\n",
        "  sigma = sigma + 0.01*sigma\n",
        "  X = np.random.normal(mu, sigma, random_set_length)\n",
        "  set_mean = np.mean(X)\n",
        "  mean_set_sample[i] = set_mean\n",
        "  # Add value set_mean to list or numpy array called mean_set_sample\n",
        "#print(mean_set_sample)\n",
        "# MEAN mean_set_sample\n",
        "mean = np.mean(mean_set_sample)\n",
        "# Variance for mean_set_sample\n",
        "std = np.std(mean_set_sample)\n",
        "print (mean, std*std)"
      ],
      "execution_count": null,
      "outputs": [
        {
          "output_type": "stream",
          "text": [
            "6.184154502631041 556.9255700308057\n"
          ],
          "name": "stdout"
        }
      ]
    },
    {
      "cell_type": "code",
      "metadata": {
        "colab": {
          "base_uri": "https://localhost:8080/",
          "height": 386
        },
        "id": "4iVwYYJkbBwa",
        "outputId": "cf950d26-5214-42e8-f962-a84099e4fc70"
      },
      "source": [
        "# Fix the random seed with s\n",
        "np.random.seed(seed=1)\n",
        "# N  - count of experiments\n",
        "# mu - mean, parameter for random distribution generation\n",
        "# sigma - stdev, parameter for random distribution generation\n",
        "beta = 0.01\n",
        "N = 300\n",
        "random_set_length = 1000\n",
        "mean_set_sample = np.zeros(N)\n",
        "X = np.random.uniform(1,10,random_set_length)\n",
        "sns.displot(X)"
      ],
      "execution_count": null,
      "outputs": [
        {
          "output_type": "execute_result",
          "data": {
            "text/plain": [
              "<seaborn.axisgrid.FacetGrid at 0x7f75fa1c95c0>"
            ]
          },
          "metadata": {
            "tags": []
          },
          "execution_count": 205
        },
        {
          "output_type": "display_data",
          "data": {
            "image/png": "[encoded data removed]",
            "text/plain": [
              "<Figure size 360x360 with 1 Axes>"
            ]
          },
          "metadata": {
            "tags": [],
            "needs_background": "light"
          }
        }
      ]
    },
    {
      "cell_type": "code",
      "metadata": {
        "colab": {
          "base_uri": "https://localhost:8080/",
          "height": 386
        },
        "id": "HYUODE-AcPyr",
        "outputId": "717bee0c-2c23-406b-e9d4-eac7a0e294f1"
      },
      "source": [
        "# Fix the random seed with s\n",
        "# np.random.seed(seed=1)\n",
        "# N  - count of experiments\n",
        "# mu - mean, parameter for random distribution generation\n",
        "# sigma - stdev, parameter for random distribution generation\n",
        "beta = 5\n",
        "N = 500\n",
        "random_set_length = 10000\n",
        "sum_set_sample = np.zeros(N)\n",
        "for i in range(N):\n",
        "  X = np.random.pareto(2, random_set_length)\n",
        "  sum = np.sum(X)\n",
        "  sum_set_sample[i] = sum/random_set_length\n",
        "\n",
        "sns.displot(sum_set_sample)"
      ],
      "execution_count": null,
      "outputs": [
        {
          "output_type": "execute_result",
          "data": {
            "text/plain": [
              "<seaborn.axisgrid.FacetGrid at 0x7f36fa8a2a20>"
            ]
          },
          "metadata": {
            "tags": []
          },
          "execution_count": 7
        },
        {
          "output_type": "display_data",
          "data": {
            "image/png": "[encoded data removed]",
            "text/plain": [
              "<Figure size 360x360 with 1 Axes>"
            ]
          },
          "metadata": {
            "tags": [],
            "needs_background": "light"
          }
        }
      ]
    },
    {
      "cell_type": "code",
      "metadata": {
        "colab": {
          "base_uri": "https://localhost:8080/",
          "height": 404
        },
        "id": "J6eGNrFEDRmK",
        "outputId": "35427f0c-e3df-481b-ebc5-ef190f03e0e2"
      },
      "source": [
        " mu, sigma = 0, 0.1 # mean and standard deviation\n",
        "X = np.random.normal(mu, sigma, 15)\n",
        "print (X[0:5], np.mean(X))\n",
        "sns.displot(X)"
      ],
      "execution_count": null,
      "outputs": [
        {
          "output_type": "stream",
          "text": [
            "[ 0.0154693   0.18562209  0.10487022  0.00706362 -0.09560642] -0.003994469437849897\n"
          ],
          "name": "stdout"
        },
        {
          "output_type": "execute_result",
          "data": {
            "text/plain": [
              "<seaborn.axisgrid.FacetGrid at 0x7f5541a260b8>"
            ]
          },
          "metadata": {
            "tags": []
          },
          "execution_count": 51
        },
        {
          "output_type": "display_data",
          "data": {
            "image/png": "[encoded data removed]",
            "text/plain": [
              "<Figure size 360x360 with 1 Axes>"
            ]
          },
          "metadata": {
            "tags": [],
            "needs_background": "light"
          }
        }
      ]
    },
    {
      "cell_type": "code",
      "metadata": {
        "colab": {
          "base_uri": "https://localhost:8080/",
          "height": 404
        },
        "id": "bxXVAtjyDYfT",
        "outputId": "9d9f15b0-07e9-4788-84c2-99e9212e434f"
      },
      "source": [
        "mu, sigma = 0, 0.1 # mean and standard deviation\n",
        "X = np.random.normal(mu, sigma, 30)\n",
        "print (X[0:5], np.mean(X))\n",
        "sns.displot(X)"
      ],
      "execution_count": null,
      "outputs": [
        {
          "output_type": "stream",
          "text": [
            "[-0.03780843 -0.10833375  0.22025366 -0.03043104  0.17743516] 0.0050655183778732646\n"
          ],
          "name": "stdout"
        },
        {
          "output_type": "execute_result",
          "data": {
            "text/plain": [
              "<seaborn.axisgrid.FacetGrid at 0x7f55419f6e80>"
            ]
          },
          "metadata": {
            "tags": []
          },
          "execution_count": 52
        },
        {
          "output_type": "display_data",
          "data": {
            "image/png": "[encoded data removed]",
            "text/plain": [
              "<Figure size 360x360 with 1 Axes>"
            ]
          },
          "metadata": {
            "tags": [],
            "needs_background": "light"
          }
        }
      ]
    },
    {
      "cell_type": "code",
      "metadata": {
        "colab": {
          "base_uri": "https://localhost:8080/",
          "height": 404
        },
        "id": "VYiQNVx8DcMm",
        "outputId": "14819a0f-872e-4fc7-e30e-1739a5781d6f"
      },
      "source": [
        "mu, sigma = 0, 0.1 # mean and standard deviation\n",
        "X = np.random.normal(mu, sigma, 70)\n",
        "print (X[0:5], np.mean(X))\n",
        "sns.displot(X)"
      ],
      "execution_count": null,
      "outputs": [
        {
          "output_type": "stream",
          "text": [
            "[ 0.08748371  0.07275343 -0.07889941 -0.08122592  0.04322868] 0.013868934493047713\n"
          ],
          "name": "stdout"
        },
        {
          "output_type": "execute_result",
          "data": {
            "text/plain": [
              "<seaborn.axisgrid.FacetGrid at 0x7f5541a41c50>"
            ]
          },
          "metadata": {
            "tags": []
          },
          "execution_count": 53
        },
        {
          "output_type": "display_data",
          "data": {
            "image/png": "[encoded data removed]",
            "text/plain": [
              "<Figure size 360x360 with 1 Axes>"
            ]
          },
          "metadata": {
            "tags": [],
            "needs_background": "light"
          }
        }
      ]
    },
    {
      "cell_type": "code",
      "metadata": {
        "colab": {
          "base_uri": "https://localhost:8080/",
          "height": 404
        },
        "id": "GKtSQey3DiOG",
        "outputId": "e33b8611-ff5b-4f54-f530-eae96ae5f62e"
      },
      "source": [
        "mu, sigma = 0, 0.1 # mean and standard deviation\n",
        "X = np.random.normal(mu, sigma, 1000)\n",
        "print (X[0:5], np.mean(X))\n",
        "sns.displot(X)"
      ],
      "execution_count": null,
      "outputs": [
        {
          "output_type": "stream",
          "text": [
            "[-0.06817855 -0.169521   -0.09370295  0.13132458 -0.08389403] -0.005295986251378686\n"
          ],
          "name": "stdout"
        },
        {
          "output_type": "execute_result",
          "data": {
            "text/plain": [
              "<seaborn.axisgrid.FacetGrid at 0x7f55418e4278>"
            ]
          },
          "metadata": {
            "tags": []
          },
          "execution_count": 54
        },
        {
          "output_type": "display_data",
          "data": {
            "image/png": "[encoded data removed]",
            "text/plain": [
              "<Figure size 360x360 with 1 Axes>"
            ]
          },
          "metadata": {
            "tags": [],
            "needs_background": "light"
          }
        }
      ]
    },
    {
      "cell_type": "code",
      "metadata": {
        "id": "1NjFecpJEybw",
        "colab": {
          "base_uri": "https://localhost:8080/",
          "height": 132
        },
        "outputId": "dd98d28f-d1cf-4e1f-cd1f-5504aa1db1db"
      },
      "source": [
        "2. Експоненційний закон розподілу"
      ],
      "execution_count": null,
      "outputs": [
        {
          "output_type": "error",
          "ename": "SyntaxError",
          "evalue": "ignored",
          "traceback": [
            "\u001b[0;36m  File \u001b[0;32m\"<ipython-input-55-70a03a3ebed5>\"\u001b[0;36m, line \u001b[0;32m1\u001b[0m\n\u001b[0;31m    2. Експоненційний закон розподілу\u001b[0m\n\u001b[0m                    ^\u001b[0m\n\u001b[0;31mSyntaxError\u001b[0m\u001b[0;31m:\u001b[0m invalid syntax\n"
          ]
        }
      ]
    },
    {
      "cell_type": "code",
      "metadata": {
        "colab": {
          "base_uri": "https://localhost:8080/",
          "height": 386
        },
        "id": "_--qOnl0E2WN",
        "outputId": "afb14be7-752f-43a2-9c48-415a6f3fff38"
      },
      "source": [
        "# 300 experiments\n",
        "# set: 1,2,3,4,5,6\n",
        "# event: 1,2\n",
        "# count: 85-115\n",
        "\n",
        "count_experiment = 0\n",
        "count_border= 0\n",
        "N = 100000\n",
        "sum_set_sample = np.zeros(N)\n",
        "for i in range(N):\n",
        "  X = np.random.uniform(0, 1, 100)\n",
        "  s = np.sum(X)\n",
        "  sum_set_sample[i] = s\n",
        "\n",
        "sns.displot(sum_set_sample)\n",
        "\n",
        "#[mu * n +/- t * sigma sqrt(m)],\n",
        "#t = laplace_function() >= 0.45"
      ],
      "execution_count": null,
      "outputs": [
        {
          "output_type": "execute_result",
          "data": {
            "text/plain": [
              "<seaborn.axisgrid.FacetGrid at 0x7f75f9c0c7b8>"
            ]
          },
          "metadata": {
            "tags": []
          },
          "execution_count": 221
        },
        {
          "output_type": "display_data",
          "data": {
            "image/png": "[encoded data removed]",
            "text/plain": [
              "<Figure size 360x360 with 1 Axes>"
            ]
          },
          "metadata": {
            "tags": [],
            "needs_background": "light"
          }
        }
      ]
    },
    {
      "cell_type": "code",
      "metadata": {
        "id": "I532NFJ4GPfw"
      },
      "source": [
        "X = np.random.randint(60000, size = (30000,1))\n",
        "print (X[0:5], np.mean(X))\n",
        "sns.displot(X)"
      ],
      "execution_count": null,
      "outputs": []
    }
  ]
}